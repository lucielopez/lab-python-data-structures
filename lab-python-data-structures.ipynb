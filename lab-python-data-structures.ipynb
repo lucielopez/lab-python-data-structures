{
 "cells": [
  {
   "cell_type": "markdown",
   "metadata": {
    "tags": []
   },
   "source": [
    "# Lab | Data Structures "
   ]
  },
  {
   "cell_type": "markdown",
   "metadata": {},
   "source": [
    "## Exercise: Managing Customer Orders\n",
    "\n",
    "As part of a business venture, you are starting an online store that sells various products. To ensure smooth operations, you need to develop a program that manages customer orders and inventory.\n",
    "\n",
    "Follow the steps below to complete the exercise:\n",
    "\n",
    "1. Define a list called `products` that contains the following items: \"t-shirt\", \"mug\", \"hat\", \"book\", \"keychain\".\n",
    "\n",
    "2. Create an empty dictionary called `inventory`.\n",
    "\n",
    "3. Ask the user to input the quantity of each product available in the inventory. Use the product names from the `products` list as keys in the `inventory` dictionary and assign the respective quantities as values.\n",
    "\n",
    "4. Create an empty set called `customer_orders`.\n",
    "\n",
    "5. Ask the user to input the name of three products that a customer wants to order (from those in the products list, meaning three products out of \"t-shirt\", \"mug\", \"hat\", \"book\" or \"keychain\". Add each product name to the `customer_orders` set.\n",
    "\n",
    "6. Print the products in the `customer_orders` set.\n",
    "\n",
    "7. Calculate the following order statistics:\n",
    "   - Total Products Ordered: The total number of products in the `customer_orders` set.\n",
    "   - Percentage of Products Ordered: The percentage of products ordered compared to the total available products.\n",
    "   \n",
    "   Store these statistics in a tuple called `order_status`.\n",
    "\n",
    "8. Print the order statistics using the following format:\n",
    "   ```\n",
    "   Order Statistics:\n",
    "   Total Products Ordered: <total_products_ordered>\n",
    "   Percentage of Products Ordered: <percentage_ordered>% \n",
    "   ```\n",
    "\n",
    "9. Update the inventory by subtracting 1 from the quantity of each product. Modify the `inventory` dictionary accordingly.\n",
    "\n",
    "10. Print the updated inventory, displaying the quantity of each product on separate lines.\n",
    "\n",
    "Solve the exercise by implementing the steps using the Python concepts of lists, dictionaries, sets, and basic input/output operations. "
   ]
  },
  {
   "cell_type": "code",
   "execution_count": null,
   "metadata": {},
   "outputs": [],
   "source": [
    "#1 List \n",
    "products = [\"t-shirt\", \"mug\", \"hat\", \"book\", \"keychain\"]\n",
    "\n",
    "\n",
    "#2 Dictionary\n",
    "inventory = {}\n",
    "\n",
    "#3 \n",
    "inventory[\"t-shirt\"] = int(input(\"Enter t-shirt quantity: \"))\n",
    "inventory[\"mug\"] = int(input(\"Enter mug quantity: \"))\n",
    "inventory[\"hat\"] = int(input(\"Enter hat quantity: \"))\n",
    "inventory[\"book\"] = int(input(\"Enter book quantity: \"))\n",
    "inventory[\"keychain\"] = int(input(\"Enter keychain  quantity: \"))\n",
    "\n",
    "print(inventory)"
   ]
  },
  {
   "cell_type": "code",
   "execution_count": null,
   "metadata": {},
   "outputs": [],
   "source": [
    "#4\n",
    "customer_orders = set()\n",
    "\n",
    "#5\n",
    "product_name = input(\"Enter the name of the product that you order: \")\n",
    "customer_orders.add(product_name)\n",
    "\n",
    "product_name = input(\"Enter the name of the product that you order: \")\n",
    "customer_orders.add(product_name)\n",
    "\n",
    "product_name = input(\"Enter the name of the product that you order: \")\n",
    "customer_orders.add(product_name)\n",
    "\n",
    "#6\n",
    "print(\"Products in customer order: \", customer_orders) "
   ]
  },
  {
   "cell_type": "code",
   "execution_count": null,
   "metadata": {},
   "outputs": [],
   "source": [
    "#7\n",
    "total_products_ordered = len(customer_orders)\n",
    "percentage_ordered = (total_products_ordered/len(products)) * 100\n",
    "\n",
    "order_stats = (total_products_ordered, percentage_ordered)\n",
    "\n",
    "#8\n",
    "print(\"Order Statistics: \")\n",
    "print(f\"Total Products Ordered: {len(customer_orders)}\")\n",
    "print(f\"Percentage of Products Ordered: {percentage_ordered}%\")\n",
    "\n",
    "\n",
    "#9\n",
    "list(product_name)[0]\n",
    "inventory[product_name] -= 1\n",
    "\n",
    "list(product_name)[1]\n",
    "inventory[product_name] -= 1\n",
    "\n",
    "list(product_name)[2]\n",
    "inventory[product_name] -= 1\n",
    "\n",
    "print(inventory)"
   ]
  }
 ],
 "metadata": {
  "kernelspec": {
   "display_name": "Python 3 (ipykernel)",
   "language": "python",
   "name": "python3"
  },
  "language_info": {
   "codemirror_mode": {
    "name": "ipython",
    "version": 3
   },
   "file_extension": ".py",
   "mimetype": "text/x-python",
   "name": "python",
   "nbconvert_exporter": "python",
   "pygments_lexer": "ipython3",
   "version": "3.9.13"
  }
 },
 "nbformat": 4,
 "nbformat_minor": 4
}
